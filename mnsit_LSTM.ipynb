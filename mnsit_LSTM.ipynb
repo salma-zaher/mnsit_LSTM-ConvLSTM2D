{
  "nbformat": 4,
  "nbformat_minor": 0,
  "metadata": {
    "colab": {
      "provenance": [],
      "gpuType": "T4"
    },
    "kernelspec": {
      "name": "python3",
      "display_name": "Python 3"
    },
    "language_info": {
      "name": "python"
    },
    "accelerator": "GPU"
  },
  "cells": [
    {
      "cell_type": "markdown",
      "source": [
        "$$ ITI \\space AI-Pro: \\space Intake \\space 45 $$\n",
        "$$ Deep \\space Learning $$\n",
        "$$ Lab \\space no. \\space 5 $$"
      ],
      "metadata": {
        "id": "2KqCPtEtRAhF"
      }
    },
    {
      "cell_type": "markdown",
      "source": [
        "# `01` Assignment 01\n",
        "\n",
        "- Design your LSTM learning model to classify hand-written digits (MNIST dataset).\n",
        "- To handle images as a sequence, the LSTM input can be seen as a 28 sequences\n",
        "of 28 elements each (taking each row of pixels as a single time step input).\n",
        "- Then, you can use dense layer(s) on top (connected to the\n",
        "output of the LSTM).\n",
        "- Important Notes:\n",
        "  - Image Size: $28\\times28$\n",
        "  - Use $80\\%$ of the provided training data for training and $20\\%$ for validation (Keep the test data for testing after training).\n",
        "  - Use $32$ units in the LSTM layer and $15\\%$ recurrent dropout.\n",
        "  - Use Categorical Cross Entropy for the loss calculation, `Adam` for optimization and `accuracy` for metrics.\n",
        "\n",
        "\n",
        "  **Additional Requirements**:\n",
        "  - Try adding a second LSTM layer before the dense layer(s).\n",
        "  - Change the number of cells to $48, 96, 256$ and report the accuracy curve."
      ],
      "metadata": {
        "id": "wKV9m7vyPSgl"
      }
    },
    {
      "cell_type": "markdown",
      "source": [
        "## `+` Import Libraries"
      ],
      "metadata": {
        "id": "wS10cfI1PSga"
      }
    },
    {
      "cell_type": "code",
      "source": [
        "import tensorflow as tf\n",
        "from tensorflow import keras\n",
        "import numpy as np\n",
        "import matplotlib.pyplot as plt\n",
        "from keras.layers import Dense, Flatten, Dropout, BatchNormalization, ConvLSTM2D, Activation, MaxPooling2D, AveragePooling2D\n",
        "from keras.models import Sequential\n",
        "from tensorflow.keras.utils import to_categorical\n",
        "from tensorflow.keras.layers import LSTM, Dense\n",
        "from tensorflow.keras.optimizers import Adam\n",
        "from tensorflow.keras.datasets import mnist\n",
        "from tensorflow.keras.callbacks import EarlyStopping"
      ],
      "metadata": {
        "id": "19570f74",
        "execution": {
          "iopub.status.busy": "2022-06-10T23:43:28.332883Z",
          "iopub.execute_input": "2022-06-10T23:43:28.333260Z",
          "iopub.status.idle": "2022-06-10T23:43:33.389309Z",
          "shell.execute_reply.started": "2022-06-10T23:43:28.333226Z",
          "shell.execute_reply": "2022-06-10T23:43:33.388423Z"
        },
        "trusted": true
      },
      "execution_count": null,
      "outputs": []
    },
    {
      "cell_type": "markdown",
      "source": [
        "# `+` Seed Value"
      ],
      "metadata": {
        "id": "hft_oDHZEOcN"
      }
    },
    {
      "cell_type": "code",
      "source": [
        "SEED = 907"
      ],
      "metadata": {
        "id": "zh7CROhTEWmT"
      },
      "execution_count": null,
      "outputs": []
    },
    {
      "cell_type": "markdown",
      "source": [
        "## `+` Load & Preprocess MNIST Dataset"
      ],
      "metadata": {
        "id": "60mCbsyxQyBf"
      }
    },
    {
      "cell_type": "markdown",
      "source": [
        "**Reminder:** You might need rescaling, and/or other preprocessing methods."
      ],
      "metadata": {
        "id": "AuCtuvFS_JZp"
      }
    },
    {
      "cell_type": "code",
      "source": [
        "(X_train, y_train), (X_test, y_test) =mnist.load_data()"
      ],
      "metadata": {
        "id": "sSHDTEQ8oNAb",
        "colab": {
          "base_uri": "https://localhost:8080/"
        },
        "outputId": "1ae047ca-bbbe-4733-f82f-a3fc604318b6"
      },
      "execution_count": null,
      "outputs": [
        {
          "output_type": "stream",
          "name": "stdout",
          "text": [
            "Downloading data from https://storage.googleapis.com/tensorflow/tf-keras-datasets/mnist.npz\n",
            "\u001b[1m11490434/11490434\u001b[0m \u001b[32m━━━━━━━━━━━━━━━━━━━━\u001b[0m\u001b[37m\u001b[0m \u001b[1m2s\u001b[0m 0us/step\n"
          ]
        }
      ]
    },
    {
      "cell_type": "code",
      "source": [
        "print(f\"Shape of X_train: {X_train.shape}\")\n",
        "print(f\"Shape of y_train: {y_train.shape}\")\n",
        "print(f\"Shape of X_test: {X_test.shape}\")\n",
        "print(f\"Shape of y_test: {y_test.shape}\")"
      ],
      "metadata": {
        "colab": {
          "base_uri": "https://localhost:8080/"
        },
        "id": "f2hH8o5g1QSU",
        "outputId": "334b0502-e022-4d2c-a21d-801691acda1b"
      },
      "execution_count": null,
      "outputs": [
        {
          "output_type": "stream",
          "name": "stdout",
          "text": [
            "Shape of X_train: (60000, 28, 28)\n",
            "Shape of y_train: (60000,)\n",
            "Shape of X_test: (10000, 28, 28)\n",
            "Shape of y_test: (10000,)\n"
          ]
        }
      ]
    },
    {
      "cell_type": "code",
      "source": [
        "fig, axes = plt.subplots(3,3)\n",
        "axes = axes.flatten()\n",
        "for i in range(9):\n",
        "    axes[i].imshow(X_train[i])\n",
        "\n",
        "plt.show()"
      ],
      "metadata": {
        "colab": {
          "base_uri": "https://localhost:8080/",
          "height": 433
        },
        "id": "YuGGSscK1SSz",
        "outputId": "a913925b-722d-4de8-a16d-11732647e7e6"
      },
      "execution_count": null,
      "outputs": [
        {
          "output_type": "display_data",
          "data": {
            "text/plain": [
              "<Figure size 640x480 with 9 Axes>"
            ],
            "image/png": "[encoded data removed]"
          },
          "metadata": {}
        }
      ]
    },
    {
      "cell_type": "code",
      "source": [
        "# Rescale Input\n",
        "X_train =X_train / 255.0\n",
        "X_test  =X_test / 255.0"
      ],
      "metadata": {
        "id": "T-r6Fy9c1YnX"
      },
      "execution_count": null,
      "outputs": []
    },
    {
      "cell_type": "code",
      "source": [
        "y_train =to_categorical(y_train, 10)\n",
        "y_test  =to_categorical(y_test, 10)"
      ],
      "metadata": {
        "id": "ls7Vou8Q2Twr"
      },
      "execution_count": null,
      "outputs": []
    },
    {
      "cell_type": "markdown",
      "source": [
        "## `+` Set Global Parameters"
      ],
      "metadata": {
        "id": "phguArA6PSgk"
      }
    },
    {
      "cell_type": "code",
      "source": [
        "BATCH_SIZE  =64\n",
        "EPOCHS      =10"
      ],
      "metadata": {
        "id": "gptfORN3Q0Xn",
        "execution": {
          "iopub.status.busy": "2022-06-11T00:30:34.415846Z",
          "iopub.execute_input": "2022-06-11T00:30:34.416266Z",
          "iopub.status.idle": "2022-06-11T00:30:34.422956Z",
          "shell.execute_reply.started": "2022-06-11T00:30:34.416231Z",
          "shell.execute_reply": "2022-06-11T00:30:34.422110Z"
        },
        "trusted": true
      },
      "execution_count": null,
      "outputs": []
    },
    {
      "cell_type": "markdown",
      "source": [
        "## `i` Model Design"
      ],
      "metadata": {
        "id": "hJYQFN8RPSgm"
      }
    },
    {
      "cell_type": "code",
      "source": [
        "model = Sequential()\n",
        "model.add(LSTM(32, input_shape=(28, 28), return_sequences=False))\n",
        "model.add(Dense(10, activation='softmax'))\n",
        "model.compile(loss='categorical_crossentropy',optimizer=Adam(),metrics=['accuracy'])"
      ],
      "metadata": {
        "id": "Dl6w4KJAAzH6"
      },
      "execution_count": null,
      "outputs": []
    },
    {
      "cell_type": "markdown",
      "source": [
        "## `ii` Model Compilation & Training"
      ],
      "metadata": {
        "id": "a0vEKb8FPSgm"
      }
    },
    {
      "cell_type": "code",
      "source": [
        "#early_stop = EarlyStopping(monitor='val_loss', patience=3, restore_best_weights=True)"
      ],
      "metadata": {
        "id": "OrOy6pZg7DFd"
      },
      "execution_count": null,
      "outputs": []
    },
    {
      "cell_type": "code",
      "source": [
        "history = model.fit(\n",
        "  X_train, y_train,\n",
        "  epochs=EPOCHS,\n",
        "  batch_size=BATCH_SIZE,\n",
        "  validation_data=(X_test, y_test)\n",
        "  #callbacks=[early_stop],\n",
        ")"
      ],
      "metadata": {
        "id": "eU2kM8qdA6Eq",
        "colab": {
          "base_uri": "https://localhost:8080/"
        },
        "outputId": "870ce8b2-2aa8-410a-f355-940d909db094"
      },
      "execution_count": null,
      "outputs": [
        {
          "output_type": "stream",
          "name": "stdout",
          "text": [
            "Epoch 1/10\n",
            "\u001b[1m938/938\u001b[0m \u001b[32m━━━━━━━━━━━━━━━━━━━━\u001b[0m\u001b[37m\u001b[0m \u001b[1m16s\u001b[0m 15ms/step - accuracy: 0.5840 - loss: 1.2762 - val_accuracy: 0.8966 - val_loss: 0.3530\n",
            "Epoch 2/10\n",
            "\u001b[1m938/938\u001b[0m \u001b[32m━━━━━━━━━━━━━━━━━━━━\u001b[0m\u001b[37m\u001b[0m \u001b[1m21s\u001b[0m 16ms/step - accuracy: 0.9082 - loss: 0.3115 - val_accuracy: 0.9279 - val_loss: 0.2379\n",
            "Epoch 3/10\n",
            "\u001b[1m938/938\u001b[0m \u001b[32m━━━━━━━━━━━━━━━━━━━━\u001b[0m\u001b[37m\u001b[0m \u001b[1m19s\u001b[0m 14ms/step - accuracy: 0.9422 - loss: 0.2022 - val_accuracy: 0.9504 - val_loss: 0.1633\n",
            "Epoch 4/10\n",
            "\u001b[1m938/938\u001b[0m \u001b[32m━━━━━━━━━━━━━━━━━━━━\u001b[0m\u001b[37m\u001b[0m \u001b[1m20s\u001b[0m 14ms/step - accuracy: 0.9539 - loss: 0.1556 - val_accuracy: 0.9613 - val_loss: 0.1280\n",
            "Epoch 5/10\n",
            "\u001b[1m938/938\u001b[0m \u001b[32m━━━━━━━━━━━━━━━━━━━━\u001b[0m\u001b[37m\u001b[0m \u001b[1m21s\u001b[0m 15ms/step - accuracy: 0.9615 - loss: 0.1274 - val_accuracy: 0.9657 - val_loss: 0.1160\n",
            "Epoch 6/10\n",
            "\u001b[1m938/938\u001b[0m \u001b[32m━━━━━━━━━━━━━━━━━━━━\u001b[0m\u001b[37m\u001b[0m \u001b[1m20s\u001b[0m 15ms/step - accuracy: 0.9677 - loss: 0.1077 - val_accuracy: 0.9694 - val_loss: 0.1020\n",
            "Epoch 7/10\n",
            "\u001b[1m938/938\u001b[0m \u001b[32m━━━━━━━━━━━━━━━━━━━━\u001b[0m\u001b[37m\u001b[0m \u001b[1m20s\u001b[0m 14ms/step - accuracy: 0.9728 - loss: 0.0952 - val_accuracy: 0.9714 - val_loss: 0.0973\n",
            "Epoch 8/10\n",
            "\u001b[1m938/938\u001b[0m \u001b[32m━━━━━━━━━━━━━━━━━━━━\u001b[0m\u001b[37m\u001b[0m \u001b[1m14s\u001b[0m 15ms/step - accuracy: 0.9745 - loss: 0.0844 - val_accuracy: 0.9718 - val_loss: 0.0906\n",
            "Epoch 9/10\n",
            "\u001b[1m938/938\u001b[0m \u001b[32m━━━━━━━━━━━━━━━━━━━━\u001b[0m\u001b[37m\u001b[0m \u001b[1m20s\u001b[0m 14ms/step - accuracy: 0.9766 - loss: 0.0773 - val_accuracy: 0.9766 - val_loss: 0.0766\n",
            "Epoch 10/10\n",
            "\u001b[1m938/938\u001b[0m \u001b[32m━━━━━━━━━━━━━━━━━━━━\u001b[0m\u001b[37m\u001b[0m \u001b[1m14s\u001b[0m 15ms/step - accuracy: 0.9782 - loss: 0.0699 - val_accuracy: 0.9782 - val_loss: 0.0724\n"
          ]
        }
      ]
    },
    {
      "cell_type": "code",
      "source": [],
      "metadata": {
        "id": "ANgnQaLukx9C"
      },
      "execution_count": null,
      "outputs": []
    },
    {
      "cell_type": "markdown",
      "source": [
        "## `iii` Model Evaluation"
      ],
      "metadata": {
        "id": "SaZNL8vTPSgn"
      }
    },
    {
      "cell_type": "code",
      "source": [
        "#model eveluation\n",
        "\n",
        "loss_train, accuracy_train = model.evaluate(X_train, y_train)\n",
        "print(f\"Accuracy for training: {accuracy_train:.4%}\")\n",
        "\n",
        "loss_test, accuracy_test = model.evaluate(X_test, y_test)\n",
        "print(f\"Accuracy for testing: {accuracy_test:.4%}\")"
      ],
      "metadata": {
        "id": "i_ykv9VLBHB0",
        "colab": {
          "base_uri": "https://localhost:8080/"
        },
        "outputId": "c6533255-e407-4536-c286-4d9bd11f6537"
      },
      "execution_count": null,
      "outputs": [
        {
          "output_type": "stream",
          "name": "stdout",
          "text": [
            "\u001b[1m1875/1875\u001b[0m \u001b[32m━━━━━━━━━━━━━━━━━━━━\u001b[0m\u001b[37m\u001b[0m \u001b[1m9s\u001b[0m 5ms/step - accuracy: 0.9819 - loss: 0.0621\n",
            "Accuracy for training: 98.2083%\n",
            "\u001b[1m313/313\u001b[0m \u001b[32m━━━━━━━━━━━━━━━━━━━━\u001b[0m\u001b[37m\u001b[0m \u001b[1m1s\u001b[0m 4ms/step - accuracy: 0.9742 - loss: 0.0861\n",
            "Accuracy for testing: 97.8200%\n"
          ]
        }
      ]
    },
    {
      "cell_type": "markdown",
      "source": [
        "## `iv` Result Visualization"
      ],
      "metadata": {
        "id": "WMrqwveSPSgp"
      }
    },
    {
      "cell_type": "code",
      "source": [
        "# Plot the training and validation accuracy and loss\n",
        "# Plot the training and validation accuracy and loss\n",
        "plt.figure(figsize=(12, 5))\n",
        "plt.subplot(1, 2, 1)\n",
        "plt.plot(history.history['loss'], label='Train Loss')\n",
        "plt.plot(history.history['val_loss'], label='Validation Loss')\n",
        "plt.legend()\n",
        "plt.title('Loss')\n",
        "\n",
        "plt.subplot(1, 2, 2)\n",
        "plt.plot(history.history['accuracy'], label='Train Accuracy')\n",
        "plt.plot(history.history['val_accuracy'], label='Validation Accuracy')\n",
        "plt.legend()\n",
        "plt.title('Accuracy')\n",
        "\n",
        "plt.show()"
      ],
      "metadata": {
        "id": "BMK2fL-6UZZs",
        "outputId": "0f9538ac-43e5-4616-8c03-11901925102f",
        "execution": {
          "iopub.status.busy": "2022-06-10T17:19:17.326686Z",
          "iopub.execute_input": "2022-06-10T17:19:17.327439Z",
          "iopub.status.idle": "2022-06-10T17:19:17.769902Z",
          "shell.execute_reply.started": "2022-06-10T17:19:17.327380Z",
          "shell.execute_reply": "2022-06-10T17:19:17.768673Z"
        },
        "trusted": true,
        "colab": {
          "base_uri": "https://localhost:8080/",
          "height": 468
        }
      },
      "execution_count": null,
      "outputs": [
        {
          "output_type": "display_data",
          "data": {
            "text/plain": [
              "<Figure size 1200x500 with 2 Axes>"
            ],
            "image/png": "[encoded data removed]"
          },
          "metadata": {}
        }
      ]
    },
    {
      "cell_type": "markdown",
      "source": [
        "## `v` Let's Visualize Model Predictions\n",
        "\n",
        "Let's try to predict the class of some test samples and plot the results."
      ],
      "metadata": {
        "id": "yZJB_n566yz6"
      }
    },
    {
      "cell_type": "code",
      "source": [
        "from re import X\n",
        "# Plot the Input, True Label, and Predicted Label\n",
        "y_pred = model.predict(X_test)\n",
        "y_pred_classes = np.argmax(y_pred, axis=1)\n",
        "y_true = np.argmax(y_test, axis=1)\n",
        "\n",
        "plt.figure(figsize=(10, 10))\n",
        "for i in range(25):\n",
        "    plt.subplot(5, 5, i + 1)\n",
        "    plt.xticks([])\n",
        "    plt.yticks([])\n",
        "    plt.grid(False)\n",
        "    plt.imshow(X_test[i], cmap=plt.cm.binary)\n",
        "    plt.xlabel(f\"Pred: {y_pred_classes[i]}\\nTrue: {y_true[i]}\")\n",
        "    plt.tight_layout()\n",
        "plt.show()"
      ],
      "metadata": {
        "colab": {
          "base_uri": "https://localhost:8080/",
          "height": 1000
        },
        "id": "hf_8pYOppXxs",
        "outputId": "3f7e4f2b-aa5b-43c0-cc24-0c999a083777"
      },
      "execution_count": null,
      "outputs": [
        {
          "output_type": "stream",
          "name": "stdout",
          "text": [
            "\u001b[1m313/313\u001b[0m \u001b[32m━━━━━━━━━━━━━━━━━━━━\u001b[0m\u001b[37m\u001b[0m \u001b[1m2s\u001b[0m 5ms/step\n"
          ]
        },
        {
          "output_type": "display_data",
          "data": {
            "text/plain": [
              "<Figure size 1000x1000 with 25 Axes>"
            ],
            "image/png": "[encoded data removed]"
          },
          "metadata": {}
        }
      ]
    },
    {
      "cell_type": "markdown",
      "source": [
        "**Note:** You can add more trials and explore different hyperparameters and design decisions as you want."
      ],
      "metadata": {
        "id": "oSWkkVjWdTmf"
      }
    },
    {
      "cell_type": "markdown",
      "source": [
        "------------------------------\n",
        "\n",
        "# Assignment 02\n",
        "- Repeat assignment `01` using `ConvLSTM1D` layer instead of `LSTM`: An LSTM utilizing the power of convolutions. Read more [here](https://paperswithcode.com/method/convlstm) and [here](https://medium.com/neuronio/an-introduction-to-convlstm-55c9025563a7).\n",
        "- Use the same parameters from assignment `01` in addition to:\n",
        "  - Kernel Size -> Try $1$ and $3$. Which is better?\n",
        "  - Padding = `same` or `valid` -> Is there a big difference?\n",
        "\n",
        "**Note:** You might need to reshape the input (Hint: check `keras.layers.Reshape` layer)\n",
        "\n",
        "\n",
        "IMPORTANT NOTE: Make sure to organize your solution, add proper documentation, and report your insights.\n",
        "------------------------------"
      ],
      "metadata": {
        "id": "7cc7ddb1"
      }
    },
    {
      "cell_type": "code",
      "source": [
        "#Resshape\n",
        "X_train = X_train.reshape(X_train.shape[0], 28, 28, 1)\n",
        "X_test = X_test.reshape(X_test.shape[0], 28, 28, 1)"
      ],
      "metadata": {
        "id": "PTx2M6r3Eixd"
      },
      "execution_count": null,
      "outputs": []
    },
    {
      "cell_type": "code",
      "source": [
        "# Reshape to include the time dimension\n",
        "X_train = X_train.reshape(X_train.shape[0], 1, 28, 28, 1)\n",
        "X_test = X_test.reshape(X_test.shape[0], 1, 28, 28, 1)\n",
        "\n",
        "# Now the input_shape in your ConvLSTM2D layer should match this shape\n",
        "model = Sequential()\n",
        "model.add(ConvLSTM2D(32, (1, 1), input_shape=(1, 28, 28, 1), return_sequences=False))\n",
        "model.add(MaxPooling2D(pool_size=(2, 2),padding='same'))\n",
        "model.add(Flatten())\n",
        "model.add(Dense(10, activation='softmax'))\n",
        "model.compile(loss='categorical_crossentropy', optimizer=Adam(), metrics=['accuracy'])"
      ],
      "metadata": {
        "colab": {
          "base_uri": "https://localhost:8080/"
        },
        "id": "rLIDZ4ypHbWw",
        "outputId": "86565c93-5871-4849-df47-155410ff0239"
      },
      "execution_count": null,
      "outputs": [
        {
          "output_type": "stream",
          "name": "stderr",
          "text": [
            "/usr/local/lib/python3.11/dist-packages/keras/src/layers/rnn/rnn.py:200: UserWarning: Do not pass an `input_shape`/`input_dim` argument to a layer. When using Sequential models, prefer using an `Input(shape)` object as the first layer in the model instead.\n",
            "  super().__init__(**kwargs)\n"
          ]
        }
      ]
    },
    {
      "cell_type": "code",
      "source": [
        "history = model.fit(\n",
        "    X_train, y_train,\n",
        "    epochs=EPOCHS,\n",
        "    batch_size=BATCH_SIZE,\n",
        "    validation_data=(X_test, y_test)\n",
        ")"
      ],
      "metadata": {
        "colab": {
          "base_uri": "https://localhost:8080/"
        },
        "id": "DVVFNyb1EvZg",
        "outputId": "bc4a2583-26e6-4336-c193-864893e39df7"
      },
      "execution_count": null,
      "outputs": [
        {
          "output_type": "stream",
          "name": "stdout",
          "text": [
            "Epoch 1/10\n",
            "\u001b[1m938/938\u001b[0m \u001b[32m━━━━━━━━━━━━━━━━━━━━\u001b[0m\u001b[37m\u001b[0m \u001b[1m139s\u001b[0m 145ms/step - accuracy: 0.7827 - loss: 0.9350 - val_accuracy: 0.9206 - val_loss: 0.2747\n",
            "Epoch 2/10\n",
            "\u001b[1m938/938\u001b[0m \u001b[32m━━━━━━━━━━━━━━━━━━━━\u001b[0m\u001b[37m\u001b[0m \u001b[1m141s\u001b[0m 144ms/step - accuracy: 0.9207 - loss: 0.2719 - val_accuracy: 0.9264 - val_loss: 0.2521\n",
            "Epoch 3/10\n",
            "\u001b[1m938/938\u001b[0m \u001b[32m━━━━━━━━━━━━━━━━━━━━\u001b[0m\u001b[37m\u001b[0m \u001b[1m131s\u001b[0m 140ms/step - accuracy: 0.9269 - loss: 0.2521 - val_accuracy: 0.9315 - val_loss: 0.2397\n",
            "Epoch 4/10\n",
            "\u001b[1m938/938\u001b[0m \u001b[32m━━━━━━━━━━━━━━━━━━━━\u001b[0m\u001b[37m\u001b[0m \u001b[1m134s\u001b[0m 143ms/step - accuracy: 0.9307 - loss: 0.2385 - val_accuracy: 0.9317 - val_loss: 0.2336\n",
            "Epoch 5/10\n",
            "\u001b[1m938/938\u001b[0m \u001b[32m━━━━━━━━━━━━━━━━━━━━\u001b[0m\u001b[37m\u001b[0m \u001b[1m142s\u001b[0m 143ms/step - accuracy: 0.9353 - loss: 0.2221 - val_accuracy: 0.9329 - val_loss: 0.2325\n",
            "Epoch 6/10\n",
            "\u001b[1m938/938\u001b[0m \u001b[32m━━━━━━━━━━━━━━━━━━━━\u001b[0m\u001b[37m\u001b[0m \u001b[1m131s\u001b[0m 140ms/step - accuracy: 0.9363 - loss: 0.2244 - val_accuracy: 0.9338 - val_loss: 0.2315\n",
            "Epoch 7/10\n",
            "\u001b[1m938/938\u001b[0m \u001b[32m━━━━━━━━━━━━━━━━━━━━\u001b[0m\u001b[37m\u001b[0m \u001b[1m127s\u001b[0m 135ms/step - accuracy: 0.9363 - loss: 0.2235 - val_accuracy: 0.9341 - val_loss: 0.2316\n",
            "Epoch 8/10\n",
            "\u001b[1m938/938\u001b[0m \u001b[32m━━━━━━━━━━━━━━━━━━━━\u001b[0m\u001b[37m\u001b[0m \u001b[1m154s\u001b[0m 148ms/step - accuracy: 0.9324 - loss: 0.2306 - val_accuracy: 0.9309 - val_loss: 0.2301\n",
            "Epoch 9/10\n",
            "\u001b[1m938/938\u001b[0m \u001b[32m━━━━━━━━━━━━━━━━━━━━\u001b[0m\u001b[37m\u001b[0m \u001b[1m136s\u001b[0m 145ms/step - accuracy: 0.9376 - loss: 0.2193 - val_accuracy: 0.9353 - val_loss: 0.2264\n",
            "Epoch 10/10\n",
            "\u001b[1m938/938\u001b[0m \u001b[32m━━━━━━━━━━━━━━━━━━━━\u001b[0m\u001b[37m\u001b[0m \u001b[1m136s\u001b[0m 145ms/step - accuracy: 0.9362 - loss: 0.2182 - val_accuracy: 0.9336 - val_loss: 0.2303\n"
          ]
        }
      ]
    },
    {
      "cell_type": "code",
      "source": [
        "loss_train, accuracy_train = model.evaluate(X_train, y_train)\n",
        "print(f\"Accuracy for training: {accuracy_train:.4%}\")\n",
        "\n",
        "loss_test, accuracy_test = model.evaluate(X_test, y_test)\n",
        "print(f\"Accuracy for testing: {accuracy_test:.4%}\")"
      ],
      "metadata": {
        "colab": {
          "base_uri": "https://localhost:8080/"
        },
        "id": "OjEuuzF6JOAI",
        "outputId": "649f92d2-0bbc-40f8-c7dc-7482d189de81"
      },
      "execution_count": null,
      "outputs": [
        {
          "output_type": "stream",
          "name": "stdout",
          "text": [
            "\u001b[1m1875/1875\u001b[0m \u001b[32m━━━━━━━━━━━━━━━━━━━━\u001b[0m\u001b[37m\u001b[0m \u001b[1m44s\u001b[0m 23ms/step - accuracy: 0.9392 - loss: 0.2125\n",
            "Accuracy for training: 93.7583%\n",
            "\u001b[1m313/313\u001b[0m \u001b[32m━━━━━━━━━━━━━━━━━━━━\u001b[0m\u001b[37m\u001b[0m \u001b[1m8s\u001b[0m 25ms/step - accuracy: 0.9250 - loss: 0.2626\n",
            "Accuracy for testing: 93.3600%\n"
          ]
        }
      ]
    },
    {
      "cell_type": "code",
      "source": [
        "# Reshape to include the time dimension\n",
        "X_train = X_train.reshape(X_train.shape[0], 1, 28, 28, 1)\n",
        "X_test = X_test.reshape(X_test.shape[0], 1, 28, 28, 1)\n",
        "\n",
        "# Now the input_shape in your ConvLSTM2D layer should match this shape\n",
        "model = Sequential()\n",
        "model.add(ConvLSTM2D(32, (1, 1), input_shape=(1, 28, 28, 1), return_sequences=False))\n",
        "model.add(MaxPooling2D(pool_size=(2, 2),padding='valid'))\n",
        "model.add(Flatten())\n",
        "model.add(Dense(10, activation='softmax'))\n",
        "model.compile(loss='categorical_crossentropy', optimizer=Adam(), metrics=['accuracy'])"
      ],
      "metadata": {
        "colab": {
          "base_uri": "https://localhost:8080/"
        },
        "id": "B_A7rILiEvNE",
        "outputId": "90982468-1bd3-467c-a2c9-7e84fd8215ce"
      },
      "execution_count": null,
      "outputs": [
        {
          "output_type": "stream",
          "name": "stderr",
          "text": [
            "/usr/local/lib/python3.11/dist-packages/keras/src/layers/rnn/rnn.py:200: UserWarning: Do not pass an `input_shape`/`input_dim` argument to a layer. When using Sequential models, prefer using an `Input(shape)` object as the first layer in the model instead.\n",
            "  super().__init__(**kwargs)\n"
          ]
        }
      ]
    },
    {
      "cell_type": "code",
      "source": [
        "early_stop = EarlyStopping(monitor='val_loss', patience=3, restore_best_weights=True)"
      ],
      "metadata": {
        "id": "Ne9sWzTdL-zW"
      },
      "execution_count": null,
      "outputs": []
    },
    {
      "cell_type": "code",
      "source": [
        "history = model.fit(\n",
        "    X_train, y_train,\n",
        "    epochs=EPOCHS,\n",
        "    batch_size=BATCH_SIZE,\n",
        "    validation_data=(X_test, y_test),\n",
        "    callbacks=[early_stop]\n",
        ")"
      ],
      "metadata": {
        "colab": {
          "base_uri": "https://localhost:8080/"
        },
        "id": "WHRr-9jCIhKM",
        "outputId": "3c1b2b7d-0779-42e6-a13e-059f18b7e5c4"
      },
      "execution_count": null,
      "outputs": [
        {
          "output_type": "stream",
          "name": "stdout",
          "text": [
            "Epoch 1/10\n",
            "\u001b[1m938/938\u001b[0m \u001b[32m━━━━━━━━━━━━━━━━━━━━\u001b[0m\u001b[37m\u001b[0m \u001b[1m15s\u001b[0m 10ms/step - accuracy: 0.7854 - loss: 0.9335 - val_accuracy: 0.9231 - val_loss: 0.2725\n",
            "Epoch 2/10\n",
            "\u001b[1m938/938\u001b[0m \u001b[32m━━━━━━━━━━━━━━━━━━━━\u001b[0m\u001b[37m\u001b[0m \u001b[1m14s\u001b[0m 6ms/step - accuracy: 0.9200 - loss: 0.2809 - val_accuracy: 0.9302 - val_loss: 0.2459\n",
            "Epoch 3/10\n",
            "\u001b[1m938/938\u001b[0m \u001b[32m━━━━━━━━━━━━━━━━━━━━\u001b[0m\u001b[37m\u001b[0m \u001b[1m5s\u001b[0m 6ms/step - accuracy: 0.9287 - loss: 0.2482 - val_accuracy: 0.9310 - val_loss: 0.2372\n",
            "Epoch 4/10\n",
            "\u001b[1m938/938\u001b[0m \u001b[32m━━━━━━━━━━━━━━━━━━━━\u001b[0m\u001b[37m\u001b[0m \u001b[1m10s\u001b[0m 6ms/step - accuracy: 0.9315 - loss: 0.2345 - val_accuracy: 0.9335 - val_loss: 0.2329\n",
            "Epoch 5/10\n",
            "\u001b[1m938/938\u001b[0m \u001b[32m━━━━━━━━━━━━━━━━━━━━\u001b[0m\u001b[37m\u001b[0m \u001b[1m5s\u001b[0m 6ms/step - accuracy: 0.9316 - loss: 0.2340 - val_accuracy: 0.9318 - val_loss: 0.2332\n",
            "Epoch 6/10\n",
            "\u001b[1m938/938\u001b[0m \u001b[32m━━━━━━━━━━━━━━━━━━━━\u001b[0m\u001b[37m\u001b[0m \u001b[1m10s\u001b[0m 5ms/step - accuracy: 0.9354 - loss: 0.2263 - val_accuracy: 0.9336 - val_loss: 0.2316\n",
            "Epoch 7/10\n",
            "\u001b[1m938/938\u001b[0m \u001b[32m━━━━━━━━━━━━━━━━━━━━\u001b[0m\u001b[37m\u001b[0m \u001b[1m5s\u001b[0m 6ms/step - accuracy: 0.9358 - loss: 0.2214 - val_accuracy: 0.9318 - val_loss: 0.2304\n",
            "Epoch 8/10\n",
            "\u001b[1m938/938\u001b[0m \u001b[32m━━━━━━━━━━━━━━━━━━━━\u001b[0m\u001b[37m\u001b[0m \u001b[1m5s\u001b[0m 6ms/step - accuracy: 0.9354 - loss: 0.2294 - val_accuracy: 0.9328 - val_loss: 0.2297\n",
            "Epoch 9/10\n",
            "\u001b[1m938/938\u001b[0m \u001b[32m━━━━━━━━━━━━━━━━━━━━\u001b[0m\u001b[37m\u001b[0m \u001b[1m10s\u001b[0m 6ms/step - accuracy: 0.9364 - loss: 0.2222 - val_accuracy: 0.9340 - val_loss: 0.2312\n",
            "Epoch 10/10\n",
            "\u001b[1m938/938\u001b[0m \u001b[32m━━━━━━━━━━━━━━━━━━━━\u001b[0m\u001b[37m\u001b[0m \u001b[1m5s\u001b[0m 6ms/step - accuracy: 0.9345 - loss: 0.2256 - val_accuracy: 0.9317 - val_loss: 0.2323\n"
          ]
        }
      ]
    },
    {
      "cell_type": "code",
      "source": [
        "loss_train, accuracy_train = model.evaluate(X_train, y_train)\n",
        "print(f\"Accuracy for training: {accuracy_train:.4%}\")\n",
        "\n",
        "loss_test, accuracy_test = model.evaluate(X_test, y_test)\n",
        "print(f\"Accuracy for testing: {accuracy_test:.4%}\")"
      ],
      "metadata": {
        "colab": {
          "base_uri": "https://localhost:8080/"
        },
        "id": "u_hsSXnyJPsQ",
        "outputId": "3567950c-920a-43b1-a004-38bf2def118a"
      },
      "execution_count": null,
      "outputs": [
        {
          "output_type": "stream",
          "name": "stdout",
          "text": [
            "\u001b[1m1875/1875\u001b[0m \u001b[32m━━━━━━━━━━━━━━━━━━━━\u001b[0m\u001b[37m\u001b[0m \u001b[1m5s\u001b[0m 3ms/step - accuracy: 0.9377 - loss: 0.2176\n",
            "Accuracy for training: 93.7133%\n",
            "\u001b[1m313/313\u001b[0m \u001b[32m━━━━━━━━━━━━━━━━━━━━\u001b[0m\u001b[37m\u001b[0m \u001b[1m1s\u001b[0m 2ms/step - accuracy: 0.9241 - loss: 0.2596\n",
            "Accuracy for testing: 93.2800%\n"
          ]
        }
      ]
    },
    {
      "cell_type": "code",
      "source": [
        "# Reshape to include the time dimension\n",
        "X_train = X_train.reshape(X_train.shape[0], 1, 28, 28, 1)\n",
        "X_test = X_test.reshape(X_test.shape[0], 1, 28, 28, 1)\n",
        "\n",
        "# Now the input_shape in your ConvLSTM2D layer should match this shape\n",
        "model = Sequential()\n",
        "model.add(ConvLSTM2D(32, (3,3), input_shape=(1, 28, 28, 1), return_sequences=False))\n",
        "model.add(MaxPooling2D(pool_size=(2, 2),padding='valid'))\n",
        "model.add(Flatten())\n",
        "model.add(Dense(10, activation='softmax'))\n",
        "model.compile(loss='categorical_crossentropy', optimizer=Adam(), metrics=['accuracy'])"
      ],
      "metadata": {
        "id": "6JX0vkFJIhFr"
      },
      "execution_count": null,
      "outputs": []
    },
    {
      "cell_type": "code",
      "source": [
        "early_stop = EarlyStopping(monitor='val_loss', patience=3, restore_best_weights=True)"
      ],
      "metadata": {
        "id": "eXxpfVNNMSkb"
      },
      "execution_count": null,
      "outputs": []
    },
    {
      "cell_type": "code",
      "source": [
        "history = model.fit(\n",
        "    X_train, y_train,\n",
        "    epochs=EPOCHS,\n",
        "    batch_size=BATCH_SIZE,\n",
        "    validation_data=(X_test, y_test),\n",
        "    callbacks=[early_stop]\n",
        ")"
      ],
      "metadata": {
        "colab": {
          "base_uri": "https://localhost:8080/"
        },
        "id": "FOMSAc_fIg-5",
        "outputId": "cf7b6060-fe91-4441-8466-a5dc96ad3c37"
      },
      "execution_count": null,
      "outputs": [
        {
          "output_type": "stream",
          "name": "stdout",
          "text": [
            "Epoch 1/10\n",
            "\u001b[1m938/938\u001b[0m \u001b[32m━━━━━━━━━━━━━━━━━━━━\u001b[0m\u001b[37m\u001b[0m \u001b[1m14s\u001b[0m 11ms/step - accuracy: 0.8182 - loss: 0.6881 - val_accuracy: 0.9317 - val_loss: 0.2397\n",
            "Epoch 2/10\n",
            "\u001b[1m938/938\u001b[0m \u001b[32m━━━━━━━━━━━━━━━━━━━━\u001b[0m\u001b[37m\u001b[0m \u001b[1m16s\u001b[0m 7ms/step - accuracy: 0.9373 - loss: 0.2237 - val_accuracy: 0.9571 - val_loss: 0.1557\n",
            "Epoch 3/10\n",
            "\u001b[1m938/938\u001b[0m \u001b[32m━━━━━━━━━━━━━━━━━━━━\u001b[0m\u001b[37m\u001b[0m \u001b[1m10s\u001b[0m 7ms/step - accuracy: 0.9589 - loss: 0.1475 - val_accuracy: 0.9678 - val_loss: 0.1101\n",
            "Epoch 4/10\n",
            "\u001b[1m938/938\u001b[0m \u001b[32m━━━━━━━━━━━━━━━━━━━━\u001b[0m\u001b[37m\u001b[0m \u001b[1m7s\u001b[0m 7ms/step - accuracy: 0.9696 - loss: 0.1074 - val_accuracy: 0.9748 - val_loss: 0.0839\n",
            "Epoch 5/10\n",
            "\u001b[1m938/938\u001b[0m \u001b[32m━━━━━━━━━━━━━━━━━━━━\u001b[0m\u001b[37m\u001b[0m \u001b[1m7s\u001b[0m 7ms/step - accuracy: 0.9754 - loss: 0.0863 - val_accuracy: 0.9777 - val_loss: 0.0740\n",
            "Epoch 6/10\n",
            "\u001b[1m938/938\u001b[0m \u001b[32m━━━━━━━━━━━━━━━━━━━━\u001b[0m\u001b[37m\u001b[0m \u001b[1m7s\u001b[0m 7ms/step - accuracy: 0.9800 - loss: 0.0724 - val_accuracy: 0.9787 - val_loss: 0.0665\n",
            "Epoch 7/10\n",
            "\u001b[1m938/938\u001b[0m \u001b[32m━━━━━━━━━━━━━━━━━━━━\u001b[0m\u001b[37m\u001b[0m \u001b[1m10s\u001b[0m 7ms/step - accuracy: 0.9820 - loss: 0.0618 - val_accuracy: 0.9813 - val_loss: 0.0652\n",
            "Epoch 8/10\n",
            "\u001b[1m938/938\u001b[0m \u001b[32m━━━━━━━━━━━━━━━━━━━━\u001b[0m\u001b[37m\u001b[0m \u001b[1m7s\u001b[0m 7ms/step - accuracy: 0.9842 - loss: 0.0535 - val_accuracy: 0.9798 - val_loss: 0.0622\n",
            "Epoch 9/10\n",
            "\u001b[1m938/938\u001b[0m \u001b[32m━━━━━━━━━━━━━━━━━━━━\u001b[0m\u001b[37m\u001b[0m \u001b[1m7s\u001b[0m 7ms/step - accuracy: 0.9855 - loss: 0.0485 - val_accuracy: 0.9814 - val_loss: 0.0577\n",
            "Epoch 10/10\n",
            "\u001b[1m938/938\u001b[0m \u001b[32m━━━━━━━━━━━━━━━━━━━━\u001b[0m\u001b[37m\u001b[0m \u001b[1m10s\u001b[0m 7ms/step - accuracy: 0.9863 - loss: 0.0466 - val_accuracy: 0.9820 - val_loss: 0.0571\n"
          ]
        }
      ]
    },
    {
      "cell_type": "code",
      "source": [
        "loss_train, accuracy_train = model.evaluate(X_train, y_train)\n",
        "print(f\"Accuracy for training: {accuracy_train:.4%}\")\n",
        "\n",
        "loss_test, accuracy_test = model.evaluate(X_test, y_test)\n",
        "print(f\"Accuracy for testing: {accuracy_test:.4%}\")"
      ],
      "metadata": {
        "colab": {
          "base_uri": "https://localhost:8080/"
        },
        "id": "d5ysL7a8JRJc",
        "outputId": "1722e40d-3562-4197-90dc-94b75a0adc30"
      },
      "execution_count": null,
      "outputs": [
        {
          "output_type": "stream",
          "name": "stdout",
          "text": [
            "\u001b[1m1875/1875\u001b[0m \u001b[32m━━━━━━━━━━━━━━━━━━━━\u001b[0m\u001b[37m\u001b[0m \u001b[1m7s\u001b[0m 3ms/step - accuracy: 0.9882 - loss: 0.0405\n",
            "Accuracy for training: 98.8750%\n",
            "\u001b[1m313/313\u001b[0m \u001b[32m━━━━━━━━━━━━━━━━━━━━\u001b[0m\u001b[37m\u001b[0m \u001b[1m1s\u001b[0m 3ms/step - accuracy: 0.9777 - loss: 0.0688\n",
            "Accuracy for testing: 98.2000%\n"
          ]
        }
      ]
    },
    {
      "cell_type": "code",
      "source": [
        "# Reshape to include the time dimension\n",
        "X_train = X_train.reshape(X_train.shape[0], 1, 28, 28, 1)\n",
        "X_test = X_test.reshape(X_test.shape[0], 1, 28, 28, 1)\n",
        "\n",
        "# Now the input_shape in your ConvLSTM2D layer should match this shape\n",
        "model = Sequential()\n",
        "model.add(ConvLSTM2D(32, (3,3), input_shape=(1, 28, 28, 1), return_sequences=False))\n",
        "model.add(MaxPooling2D(pool_size=(2, 2),padding='same'))\n",
        "model.add(Flatten())\n",
        "model.add(Dense(10, activation='softmax'))\n",
        "model.compile(loss='categorical_crossentropy', optimizer=Adam(), metrics=['accuracy'])"
      ],
      "metadata": {
        "id": "5h7MqLbmI0YY"
      },
      "execution_count": null,
      "outputs": []
    },
    {
      "cell_type": "code",
      "source": [
        "early_stop = EarlyStopping(monitor='val_loss', patience=3, restore_best_weights=True)"
      ],
      "metadata": {
        "id": "FzzkPnMPMU5Z"
      },
      "execution_count": null,
      "outputs": []
    },
    {
      "cell_type": "code",
      "source": [
        "history = model.fit(\n",
        "    X_train, y_train,\n",
        "    epochs=EPOCHS,\n",
        "    batch_size=BATCH_SIZE,\n",
        "    validation_data=(X_test, y_test),\n",
        "    callbacks=[early_stop]\n",
        ")"
      ],
      "metadata": {
        "colab": {
          "base_uri": "https://localhost:8080/"
        },
        "id": "cCcgjlDEI3Hp",
        "outputId": "e2bec10c-fcef-48dc-c50b-66a9e21d6038"
      },
      "execution_count": null,
      "outputs": [
        {
          "output_type": "stream",
          "name": "stdout",
          "text": [
            "Epoch 1/10\n",
            "\u001b[1m938/938\u001b[0m \u001b[32m━━━━━━━━━━━━━━━━━━━━\u001b[0m\u001b[37m\u001b[0m \u001b[1m13s\u001b[0m 10ms/step - accuracy: 0.8207 - loss: 0.6895 - val_accuracy: 0.9496 - val_loss: 0.1747\n",
            "Epoch 2/10\n",
            "\u001b[1m938/938\u001b[0m \u001b[32m━━━━━━━━━━━━━━━━━━━━\u001b[0m\u001b[37m\u001b[0m \u001b[1m7s\u001b[0m 7ms/step - accuracy: 0.9551 - loss: 0.1566 - val_accuracy: 0.9696 - val_loss: 0.1085\n",
            "Epoch 3/10\n",
            "\u001b[1m938/938\u001b[0m \u001b[32m━━━━━━━━━━━━━━━━━━━━\u001b[0m\u001b[37m\u001b[0m \u001b[1m7s\u001b[0m 8ms/step - accuracy: 0.9720 - loss: 0.0990 - val_accuracy: 0.9764 - val_loss: 0.0803\n",
            "Epoch 4/10\n",
            "\u001b[1m938/938\u001b[0m \u001b[32m━━━━━━━━━━━━━━━━━━━━\u001b[0m\u001b[37m\u001b[0m \u001b[1m10s\u001b[0m 8ms/step - accuracy: 0.9790 - loss: 0.0750 - val_accuracy: 0.9776 - val_loss: 0.0682\n",
            "Epoch 5/10\n",
            "\u001b[1m938/938\u001b[0m \u001b[32m━━━━━━━━━━━━━━━━━━━━\u001b[0m\u001b[37m\u001b[0m \u001b[1m10s\u001b[0m 8ms/step - accuracy: 0.9820 - loss: 0.0631 - val_accuracy: 0.9799 - val_loss: 0.0634\n",
            "Epoch 6/10\n",
            "\u001b[1m938/938\u001b[0m \u001b[32m━━━━━━━━━━━━━━━━━━━━\u001b[0m\u001b[37m\u001b[0m \u001b[1m10s\u001b[0m 7ms/step - accuracy: 0.9840 - loss: 0.0560 - val_accuracy: 0.9791 - val_loss: 0.0629\n",
            "Epoch 7/10\n",
            "\u001b[1m938/938\u001b[0m \u001b[32m━━━━━━━━━━━━━━━━━━━━\u001b[0m\u001b[37m\u001b[0m \u001b[1m7s\u001b[0m 7ms/step - accuracy: 0.9861 - loss: 0.0483 - val_accuracy: 0.9797 - val_loss: 0.0585\n",
            "Epoch 8/10\n",
            "\u001b[1m938/938\u001b[0m \u001b[32m━━━━━━━━━━━━━━━━━━━━\u001b[0m\u001b[37m\u001b[0m \u001b[1m10s\u001b[0m 8ms/step - accuracy: 0.9873 - loss: 0.0462 - val_accuracy: 0.9801 - val_loss: 0.0600\n",
            "Epoch 9/10\n",
            "\u001b[1m938/938\u001b[0m \u001b[32m━━━━━━━━━━━━━━━━━━━━\u001b[0m\u001b[37m\u001b[0m \u001b[1m7s\u001b[0m 7ms/step - accuracy: 0.9875 - loss: 0.0421 - val_accuracy: 0.9813 - val_loss: 0.0561\n",
            "Epoch 10/10\n",
            "\u001b[1m938/938\u001b[0m \u001b[32m━━━━━━━━━━━━━━━━━━━━\u001b[0m\u001b[37m\u001b[0m \u001b[1m10s\u001b[0m 7ms/step - accuracy: 0.9895 - loss: 0.0383 - val_accuracy: 0.9832 - val_loss: 0.0520\n"
          ]
        }
      ]
    },
    {
      "cell_type": "code",
      "source": [
        "loss_train, accuracy_train = model.evaluate(X_train, y_train)\n",
        "print(f\"Accuracy for training: {accuracy_train:.4%}\")\n",
        "\n",
        "loss_test, accuracy_test = model.evaluate(X_test, y_test)\n",
        "print(f\"Accuracy for testing: {accuracy_test:.4%}\")"
      ],
      "metadata": {
        "colab": {
          "base_uri": "https://localhost:8080/"
        },
        "id": "TjoJQf9kJF9o",
        "outputId": "be94caf2-d6c3-4860-bd02-81db436a919a"
      },
      "execution_count": null,
      "outputs": [
        {
          "output_type": "stream",
          "name": "stdout",
          "text": [
            "\u001b[1m1875/1875\u001b[0m \u001b[32m━━━━━━━━━━━━━━━━━━━━\u001b[0m\u001b[37m\u001b[0m \u001b[1m6s\u001b[0m 3ms/step - accuracy: 0.9915 - loss: 0.0322\n",
            "Accuracy for training: 99.1650%\n",
            "\u001b[1m313/313\u001b[0m \u001b[32m━━━━━━━━━━━━━━━━━━━━\u001b[0m\u001b[37m\u001b[0m \u001b[1m1s\u001b[0m 3ms/step - accuracy: 0.9804 - loss: 0.0638\n",
            "Accuracy for testing: 98.3200%\n"
          ]
        }
      ]
    },
    {
      "cell_type": "markdown",
      "source": [
        "#insights:"
      ],
      "metadata": {
        "id": "-GGe51dsMp55"
      }
    },
    {
      "cell_type": "markdown",
      "source": [
        "- best model: kernal=3,padding=same,accuracey=`99.1%`=>train,`98.3%`=>test\n",
        "- When using padding = valid,accuracy `98%` on train, `97%` on test.\n",
        "- when using kernal = 1, it gives `93%` on train, `92%` on test even if padding `'same'` or `'valid'` used.\n"
      ],
      "metadata": {
        "id": "O8hX5E1nMvYk"
      }
    },
    {
      "cell_type": "markdown",
      "metadata": {
        "id": "7ff5f5dc"
      },
      "source": [
        "----------------------------------------------\n",
        "\n",
        "$$ Wish \\space you \\space all \\space the \\space best \\space ♡ $$\n",
        "$$ Abdelrahman \\space Eid $$"
      ]
    }
  ]
}